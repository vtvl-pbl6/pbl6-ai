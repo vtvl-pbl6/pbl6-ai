{
  "cells": [
    {
      "cell_type": "code",
      "execution_count": 45,
      "metadata": {
        "colab": {
          "base_uri": "https://localhost:8080/"
        },
        "id": "lCGB2Rny3n7V",
        "outputId": "8fb8df7c-b0c3-4da4-f895-6360979a3648"
      },
      "outputs": [
        {
          "name": "stdout",
          "output_type": "stream",
          "text": [
            "Drive already mounted at /content/drive; to attempt to forcibly remount, call drive.mount(\"/content/drive\", force_remount=True).\n"
          ]
        }
      ],
      "source": [
        "from google.colab import drive\n",
        "drive.mount('/content/drive')\n",
        "\n",
        "checkpoint_parent_dir = \"/content/drive/MyDrive/PBL6/Code/checkpoints\"\n",
        "data_parent_dir = \"/content/drive/MyDrive/PBL6/Code/data\""
      ]
    },
    {
      "cell_type": "markdown",
      "metadata": {
        "id": "vGMzgV7d3RA5"
      },
      "source": [
        "# 1. Khai báo các thư viện cần thiết"
      ]
    },
    {
      "cell_type": "code",
      "execution_count": 46,
      "metadata": {
        "id": "QLEA4KDXOnfM"
      },
      "outputs": [],
      "source": [
        "from sklearn.metrics import f1_score, accuracy_score\n",
        "import numpy as np\n",
        "from tqdm import tqdm\n",
        "from IPython.display import clear_output\n",
        "from typing import List, Tuple\n",
        "import os\n",
        "from os import walk\n",
        "import matplotlib.pyplot as plt\n",
        "\n",
        "# For training and evaluation\n",
        "import tensorflow as tf\n",
        "import torch\n",
        "import torch.nn as nn\n",
        "import torch.optim as optim\n",
        "from transformers import XLMRobertaModel, AutoTokenizer\n",
        "\n",
        "# For data processing\n",
        "import pandas as pd\n",
        "from torch.utils.data import DataLoader, Dataset"
      ]
    },
    {
      "cell_type": "markdown",
      "metadata": {
        "id": "E_3qQgK33RBI"
      },
      "source": [
        "### 1.1. Setup ban đầu"
      ]
    },
    {
      "cell_type": "code",
      "execution_count": 47,
      "metadata": {
        "colab": {
          "base_uri": "https://localhost:8080/"
        },
        "id": "I3YIeVxjOnfY",
        "outputId": "1ae38a84-2a1e-453f-ce8e-51b5ef41ee25"
      },
      "outputs": [
        {
          "data": {
            "text/plain": [
              "device(type='cuda')"
            ]
          },
          "execution_count": 47,
          "metadata": {},
          "output_type": "execute_result"
        }
      ],
      "source": [
        "tf.keras.backend.clear_session()\n",
        "\n",
        "# Clear memory\n",
        "torch.cuda.empty_cache()\n",
        "\n",
        "# Clear output of the cell\n",
        "clear_output()\n",
        "\n",
        "# Set runtime on GPU if available\n",
        "device = torch.device(\"cuda\" if torch.cuda.is_available() else \"cpu\")\n",
        "device"
      ]
    },
    {
      "cell_type": "markdown",
      "metadata": {
        "id": "cSn3QN_73RBK"
      },
      "source": [
        "### 1.2. Tạo input model"
      ]
    },
    {
      "cell_type": "code",
      "execution_count": 48,
      "metadata": {
        "id": "Kxoa7w9yOnfg"
      },
      "outputs": [],
      "source": [
        "train_path = f\"{data_parent_dir}/train.csv\"\n",
        "dev_path = f\"{data_parent_dir}/dev.csv\"\n",
        "test_path = f\"{data_parent_dir}/test.csv\"\n",
        "\n",
        "input_model = XLMRobertaModel.from_pretrained(\"xlm-roberta-base\") # load pre-trained model\n",
        "tokenizer = AutoTokenizer.from_pretrained(\"xlm-roberta-base\") # load pre-trained tokenizer\n",
        "input_model.resize_token_embeddings(len(tokenizer))\n",
        "\n",
        "clear_output()"
      ]
    },
    {
      "cell_type": "markdown",
      "metadata": {
        "id": "g3iJR318Onfi"
      },
      "source": [
        "# 2. Xử lý dữ liệu"
      ]
    },
    {
      "cell_type": "code",
      "execution_count": 49,
      "metadata": {
        "id": "jgXlU_4zOnfm"
      },
      "outputs": [],
      "source": [
        "clear_output()"
      ]
    },
    {
      "cell_type": "markdown",
      "metadata": {
        "id": "WJqbYCp-3RBN"
      },
      "source": [
        "### 2.1. Tiền xử lý data"
      ]
    },
    {
      "cell_type": "code",
      "execution_count": 50,
      "metadata": {
        "id": "cKV2F-EoOnfn"
      },
      "outputs": [],
      "source": [
        "def prepare_data(file_path: str) -> Tuple[List[str], List[List[int]]]:\n",
        "    df = pd.read_csv(file_path)\n",
        "\n",
        "    # Drop rows with missing values\n",
        "    df = df.dropna()\n",
        "    df = df.reset_index(drop=True)\n",
        "\n",
        "    texts = df['Word'].tolist()\n",
        "    spans = df['Tag'].tolist()\n",
        "\n",
        "    # Convert spans to binary (0, 1)\n",
        "    binary_spans = []\n",
        "    for span in spans:\n",
        "        binary_span = []\n",
        "        span = span.split(' ')\n",
        "        for s in span:\n",
        "            if s == 'O':\n",
        "                binary_span.append(0)\n",
        "            else:\n",
        "                binary_span.append(1)\n",
        "        binary_spans.append(binary_span)\n",
        "\n",
        "    return texts, binary_spans"
      ]
    },
    {
      "cell_type": "markdown",
      "metadata": {
        "id": "pzXS1HYo3RBO"
      },
      "source": [
        "### 2.2. Tạo class TextDataset và hàm tạo dataloader"
      ]
    },
    {
      "cell_type": "code",
      "execution_count": 51,
      "metadata": {
        "id": "e9iHsbPjOnfp"
      },
      "outputs": [],
      "source": [
        "# Dataloader class\n",
        "class TextDataset(Dataset):\n",
        "    def __init__(self, tokenizer, texts: List[str], spans: List[List[int]], max_len: int):\n",
        "        # Tokenize text with output format {'input_ids': [], 'attention_mask': []}s\n",
        "        self.texts = [tokenizer(text, padding='max_length', max_length=max_len, truncation=True, return_tensors=\"pt\") for text in texts]\n",
        "        self.spans = []\n",
        "\n",
        "        for span in spans: # Padding spans to max_len\n",
        "            if len(span) < max_len:\n",
        "                self.spans.append(span + [0] * (max_len - len(span)))\n",
        "            else:\n",
        "                self.spans.append(span[:max_len])\n",
        "\n",
        "        self.spans = torch.tensor(self.spans)\n",
        "\n",
        "    def __len__(self):\n",
        "        return len(self.spans)\n",
        "\n",
        "    def __getitem__(self, index):\n",
        "        return self.texts[index], self.spans[index]\n",
        "\n",
        "def create_dataloader(texts, spans, batch_size, tokenizer, max_len, shuffle=True) -> DataLoader:\n",
        "    dataset = TextDataset(tokenizer, texts, spans, max_len)\n",
        "    dataloader = DataLoader(dataset, batch_size=batch_size, shuffle=shuffle)\n",
        "    return dataloader"
      ]
    },
    {
      "cell_type": "markdown",
      "metadata": {
        "id": "pDRmpW0g3RBP"
      },
      "source": [
        "### 2.3. Tạo dataloader cho dữ liệu **train**, **dev** và **test**"
      ]
    },
    {
      "cell_type": "code",
      "execution_count": null,
      "metadata": {
        "id": "w-Qyw31bOnfr"
      },
      "outputs": [],
      "source": [
        "batch_size = 64 # devide data into batches\n",
        "train_dataloader = create_dataloader(*prepare_data(train_path), batch_size=batch_size, tokenizer=tokenizer, max_len=64)\n",
        "dev_dataloader = create_dataloader(*prepare_data(dev_path), batch_size=batch_size, tokenizer=tokenizer, max_len=64, shuffle=False)\n",
        "test_dataloader = create_dataloader(*prepare_data(test_path), batch_size=batch_size, tokenizer=tokenizer, max_len=64)"
      ]
    },
    {
      "cell_type": "markdown",
      "metadata": {
        "id": "gir9BmSBOnfs"
      },
      "source": [
        "# 3. Tạo mô hình huấn luyện"
      ]
    },
    {
      "cell_type": "markdown",
      "metadata": {
        "id": "fybIdlMK3RBQ"
      },
      "source": [
        "### 3.1. Tạo lớp mô hình huấn luyện"
      ]
    },
    {
      "cell_type": "code",
      "execution_count": null,
      "metadata": {
        "id": "NNxX9SOsOnfu"
      },
      "outputs": [],
      "source": [
        "class MultiTaskModel(nn.Module):\n",
        "    def __init__(self, input_model):\n",
        "        super(MultiTaskModel, self).__init__()\n",
        "        self.bert = input_model\n",
        "        self.span_classifier = nn.Linear(768, 1) # Classification head\n",
        "        self.dropout = nn.Dropout(0.1)\n",
        "\n",
        "    def forward(self, input_ids, attention_mask):\n",
        "        # Forward pass through the BERT model\n",
        "        output = self.bert(input_ids=input_ids, attention_mask=attention_mask, return_dict=False)\n",
        "        last_hidden_state = output[0] # Hidden state of shape (batch_size, sequence_length, hidden_size)\n",
        "\n",
        "        # Apply dropout\n",
        "        last_hidden_state = self.dropout(last_hidden_state)\n",
        "\n",
        "        # Apply the span classifier to get logits for each token (batch_size, sequence_length, 1)\n",
        "        span_logits = self.span_classifier(last_hidden_state)\n",
        "\n",
        "        span_logits = span_logits.permute(0, 2, 1)\n",
        "        span_logits = torch.sigmoid(span_logits)\n",
        "        span_logits = span_logits.permute(0, 2, 1)\n",
        "\n",
        "        return  span_logits\n",
        "\n",
        "    def predict(self, input_ids, attention_mask, threshold: float = 0.5):\n",
        "        span_logits = self.forward(input_ids, attention_mask)\n",
        "\n",
        "        # Convert logits to binary labels\n",
        "        predictions = (span_logits > threshold).float()  # (batch_size, sequence_length, 1)\n",
        "\n",
        "        # Aggregate the predictions across the sequence\n",
        "        aggregated_predictions = torch.mean(predictions, dim=1)  # (batch_size, 1)\n",
        "\n",
        "        # If the average prediction is above the threshold, classify as HOS (1), otherwise NOT-HOS (0)\n",
        "        final_predictions = (aggregated_predictions > threshold).long()  # Final binary prediction (batch_size, 1)\n",
        "\n",
        "        return final_predictions"
      ]
    },
    {
      "cell_type": "markdown",
      "metadata": {
        "id": "w8fI9-RR3RBQ"
      },
      "source": [
        "### 3.2. Tạo các hàm tính toán chung"
      ]
    },
    {
      "cell_type": "code",
      "execution_count": null,
      "metadata": {
        "id": "13udAWj63RBQ"
      },
      "outputs": [],
      "source": [
        "def calculate_f1(preds, y):\n",
        "    return f1_score(y, preds, average='macro')\n",
        "\n",
        "def calculate_accuracy(preds, y):\n",
        "    return accuracy_score(y, preds)\n",
        "\n",
        "def save_checkpoint(model: MultiTaskModel, filename: str):\n",
        "    torch.save(model.state_dict(), f\"{checkpoint_parent_dir}/{filename}\")\n",
        "\n",
        "def load_checkpoint(model: MultiTaskModel, filename: str) -> MultiTaskModel:\n",
        "    model.load_state_dict(torch.load(f\"{checkpoint_parent_dir}/{filename}\"))\n",
        "    return model\n",
        "\n",
        "def get_epoch_name(id)->str:\n",
        "    return f\"epoch_{id}.pt\""
      ]
    },
    {
      "cell_type": "markdown",
      "metadata": {
        "id": "n9xuD3Jz3RBR"
      },
      "source": [
        "### 3.3. Hàm huấn luyện mô hình"
      ]
    },
    {
      "cell_type": "code",
      "execution_count": null,
      "metadata": {
        "id": "pcYtSjDAOnfv"
      },
      "outputs": [],
      "source": [
        "def train(\n",
        "    model: MultiTaskModel,\n",
        "    train_dataloader: DataLoader,\n",
        "    dev_dataloader: DataLoader,\n",
        "    criterion_span: nn.BCELoss,\n",
        "    optimizer_spans: optim.Adam,\n",
        "    device: torch.device,\n",
        "    start_epoch: int,\n",
        "    num_epochs: int\n",
        "):\n",
        "    model.train() # Turn on training mode\n",
        "    total_train_loss = [] # For plotting\n",
        "    total_train_acc = [] # For plotting\n",
        "    total_val_loss = [] # For plotting\n",
        "    total_val_acc = [] # For plotting\n",
        "\n",
        "    if start_epoch >= num_epochs:\n",
        "        return total_train_loss, total_train_acc, total_val_loss, total_val_acc\n",
        "\n",
        "    # Load checkpoint if start_epoch > 0\n",
        "    if start_epoch > 0:\n",
        "        print('Loading checkpoint...')\n",
        "        model = load_checkpoint(model, get_epoch_name(start_epoch))\n",
        "\n",
        "    for epoch in range(start_epoch, num_epochs):\n",
        "        print('Epoch: ', epoch+1)\n",
        "        train_loss = 0\n",
        "        train_span_preds = []\n",
        "        train_span_targets = []\n",
        "        for texts, spans in tqdm(train_dataloader):\n",
        "            input_ids = texts['input_ids'].squeeze(1).to(device)\n",
        "            attention_mask = texts['attention_mask'].to(device)\n",
        "            spans = spans.float().to(device)\n",
        "\n",
        "            optimizer_spans.zero_grad()\n",
        "            span_logits = model.forward(input_ids, attention_mask) # Forward pass\n",
        "            loss_span = criterion_span(span_logits.squeeze(), spans)\n",
        "\n",
        "            loss = loss_span\n",
        "            loss.backward()\n",
        "\n",
        "            optimizer_spans.step()\n",
        "            train_loss += loss.item()\n",
        "            train_span_preds.append(span_logits.squeeze().cpu().detach().numpy().flatten())\n",
        "            train_span_targets.append(spans.cpu().numpy().flatten())\n",
        "\n",
        "        # Calculate validation loss and macro F1-score\n",
        "        val_loss = 0\n",
        "        val_span_preds = []\n",
        "        val_span_targets = []\n",
        "\n",
        "        for texts, spans in tqdm(dev_dataloader):\n",
        "            input_ids = texts['input_ids'].squeeze(1).to(device)\n",
        "            attention_mask = texts['attention_mask'].to(device)\n",
        "            spans = spans.float().to(device)\n",
        "            with torch.no_grad():\n",
        "                span_logits = model.forward(input_ids, attention_mask) # Forward pass\n",
        "                loss_span = criterion_span(span_logits.squeeze(), spans)\n",
        "\n",
        "                val_loss += loss_span\n",
        "\n",
        "            # Save the true labels and predicted labels for each sample\n",
        "            val_span_preds.append(span_logits.squeeze().cpu().numpy().flatten())\n",
        "            val_span_targets.append(spans.cpu().numpy().flatten())\n",
        "\n",
        "        # Validation loss, accuracy, F1-score\n",
        "        val_span_preds = np.concatenate(val_span_preds)\n",
        "        val_span_preds = (val_span_preds > 0.5).astype(int)\n",
        "        val_span_targets = np.concatenate(val_span_targets)\n",
        "\n",
        "        val_loss = val_loss/len(dev_dataloader)\n",
        "        val_acc = calculate_accuracy(val_span_preds, val_span_targets)\n",
        "        val_f1 = calculate_f1(val_span_preds, val_span_targets)\n",
        "\n",
        "        # Train loss, accuracy\n",
        "        train_span_preds = np.concatenate(train_span_preds)\n",
        "        train_span_preds = (train_span_preds > 0.5).astype(int)\n",
        "        train_span_targets = np.concatenate(train_span_targets)\n",
        "\n",
        "        train_loss = train_loss/len(train_dataloader)\n",
        "        train_acc = calculate_accuracy(train_span_preds, train_span_targets)\n",
        "\n",
        "        print(f\" -> Train loss: {train_loss}; Train acc: {train_acc} -- Val loss: {val_loss}; Val acc: {val_acc} -- F1-score: {val_f1}\")\n",
        "\n",
        "        if os.path.exists(f\"{checkpoint_parent_dir}/{get_epoch_name(epoch)}\"): # Remove previous checkpoint\n",
        "            os.remove(f\"{checkpoint_parent_dir}/{get_epoch_name(epoch)}\")\n",
        "        save_checkpoint(model, get_epoch_name(epoch+1) if epoch < num_epochs - 1 else get_epoch_name(\"final\")) # Save current checkpoint\n",
        "\n",
        "        # Save values for plotting\n",
        "        total_train_loss.append(train_loss)\n",
        "        total_train_acc.append(train_acc)\n",
        "        total_val_loss.append(val_loss)\n",
        "        total_val_acc.append(val_acc)\n",
        "\n",
        "    return total_train_loss, total_train_acc, total_val_loss, total_val_acc"
      ]
    },
    {
      "cell_type": "markdown",
      "metadata": {
        "id": "tBNpdWx7C5WK"
      },
      "source": [
        "# 4. Huấn luyện và kiểm tra mô hình"
      ]
    },
    {
      "cell_type": "markdown",
      "metadata": {
        "id": "Vb-SQpdR3RBR"
      },
      "source": [
        "### 4.1. Huấn luyện mô hình"
      ]
    },
    {
      "cell_type": "code",
      "execution_count": null,
      "metadata": {
        "id": "qkleJiYB3RBS"
      },
      "outputs": [],
      "source": [
        "num_epochs = 100\n",
        "\n",
        "# Create an instance of the multi-task model\n",
        "model = MultiTaskModel(input_model = input_model)\n",
        "model.to(device)\n",
        "\n",
        "criterion_span = nn.BCELoss()\n",
        "\n",
        "# Define the optimizer\n",
        "optimizer_spans = optim.Adam(list(model.parameters()), lr=5e-6, weight_decay=1e-5)\n",
        "\n",
        "# Check checkpoint\n",
        "filenames = next(walk(checkpoint_parent_dir), (None, None, []))[2]  # [] if no file\n",
        "start_epoch = 0\n",
        "for i in filenames:\n",
        "    if '.pt' in i:\n",
        "      try:\n",
        "        if 'final' in i:\n",
        "          start_epoch = num_epochs\n",
        "          break\n",
        "\n",
        "        idx = int(i[:-3].split(\"_\")[-1]) # remove '.pt' and split file name\n",
        "        start_epoch = idx if idx > start_epoch else start_epoch\n",
        "      except Exception as e:\n",
        "        continue\n",
        "\n",
        "\n",
        "total_train_loss, total_train_acc, total_val_loss, total_val_acc = train(\n",
        "    model = model,\n",
        "    train_dataloader = train_dataloader,\n",
        "    dev_dataloader = dev_dataloader,\n",
        "    criterion_span = criterion_span,\n",
        "    optimizer_spans = optimizer_spans,\n",
        "    device = device,\n",
        "    start_epoch = start_epoch,\n",
        "    num_epochs = num_epochs\n",
        ")"
      ]
    },
    {
      "cell_type": "markdown",
      "metadata": {
        "id": "p57pKpsSOnfx"
      },
      "source": [
        "### 4.2. Hiển thị các biểu đồ"
      ]
    },
    {
      "cell_type": "code",
      "execution_count": null,
      "metadata": {
        "id": "z56Zd0wGhilK"
      },
      "outputs": [],
      "source": [
        "def tensor_to_numpy(tensor):\n",
        "    if torch.is_tensor(tensor):\n",
        "        # Check if tensor is on GPU, move it to CPU first if necessary\n",
        "        if tensor.is_cuda:\n",
        "            tensor = tensor.cpu()\n",
        "        return tensor.numpy()\n",
        "    else:\n",
        "        # If input is not a tensor, return it as is\n",
        "        return tensor"
      ]
    },
    {
      "cell_type": "code",
      "execution_count": null,
      "metadata": {
        "id": "sKSSo1b3VHVw"
      },
      "outputs": [],
      "source": [
        "def plot_training_results(total_train_loss, total_train_acc, total_val_loss, total_val_acc):\n",
        "    total_train_loss = [tensor_to_numpy(e) for e in total_train_loss]\n",
        "    total_train_acc = [tensor_to_numpy(e) for e in total_train_acc]\n",
        "    total_val_loss = [tensor_to_numpy(e) for e in total_val_loss]\n",
        "    total_val_acc = [tensor_to_numpy(e) for e in total_val_acc]\n",
        "\n",
        "    epochs = range(1, len(total_train_loss) + 1)\n",
        "\n",
        "    plt.figure(figsize=(12, 6))\n",
        "\n",
        "    # Plot training and validation loss\n",
        "    plt.subplot(1, 2, 1)\n",
        "    plt.plot(epochs, total_train_loss, 'b', label='Training Loss')\n",
        "    plt.plot(epochs, total_val_loss, 'r', label='Validation Loss')\n",
        "    plt.title('Training and Validation Loss')\n",
        "    plt.xlabel('Epochs')\n",
        "    plt.ylabel('Loss')\n",
        "    plt.legend()\n",
        "\n",
        "    # Plot training and validation accuracy\n",
        "    plt.subplot(1, 2, 2)\n",
        "    plt.plot(epochs, total_train_acc, 'b', label='Training Accuracy')\n",
        "    plt.plot(epochs, total_val_acc, 'r', label='Validation Accuracy')\n",
        "    plt.title('Training and Validation Accuracy')\n",
        "    plt.xlabel('Epochs')\n",
        "    plt.ylabel('Accuracy')\n",
        "    plt.legend()\n",
        "\n",
        "    plt.tight_layout()\n",
        "    plt.show()\n",
        "\n",
        "plot_training_results(total_train_loss, total_train_acc, total_val_loss, total_val_acc)"
      ]
    },
    {
      "cell_type": "markdown",
      "metadata": {
        "id": "wyb0OA9cVNJw"
      },
      "source": [
        "### 4.3. Kiểm tra mô hình trên tập dữ liệu test"
      ]
    },
    {
      "cell_type": "code",
      "execution_count": null,
      "metadata": {
        "id": "o19ogwVuOnfy"
      },
      "outputs": [],
      "source": [
        "# def test(model, test_dataloader, device):\n",
        "#     model.eval()\n",
        "#     span_preds = []\n",
        "#     span_targets = []\n",
        "#     for texts, spans in tqdm(test_dataloader):\n",
        "#         input_ids = texts['input_ids'].squeeze(1).to(device)\n",
        "#         attention_mask = texts['attention_mask'].to(device)\n",
        "#         spans = spans.float().to(device)\n",
        "#         with torch.no_grad():\n",
        "#             span_logits = model(input_ids, attention_mask)\n",
        "\n",
        "#         span_preds.append(span_logits.squeeze().cpu().numpy().flatten())\n",
        "#         span_targets.append(spans.cpu().numpy().flatten())\n",
        "\n",
        "#     span_preds = np.concatenate(span_preds)\n",
        "#     span_targets = np.concatenate(span_targets)\n",
        "#     span_preds = (span_preds > 0.5).astype(int)\n",
        "#     span_f1 = f1_score(span_targets, span_preds, average='macro')\n",
        "\n",
        "#     print(\"Span F1 Score: {:.4f}\".format(span_f1))"
      ]
    },
    {
      "cell_type": "code",
      "execution_count": null,
      "metadata": {
        "id": "MXEHG_oMOnfy"
      },
      "outputs": [],
      "source": [
        "# model = MultiTaskModel(input_model = input_model)\n",
        "# model.load_state_dict(torch.load(f\"{checkpoint_parent_dir}/epoch_final.pt\", weights_only=True))\n",
        "# model.to(device)\n",
        "\n",
        "# test(model = model, test_dataloader = test_dataloader, device = device)"
      ]
    }
  ],
  "metadata": {
    "accelerator": "GPU",
    "colab": {
      "gpuType": "T4",
      "provenance": []
    },
    "kernelspec": {
      "display_name": "Python 3",
      "name": "python3"
    },
    "language_info": {
      "codemirror_mode": {
        "name": "ipython",
        "version": 3
      },
      "file_extension": ".py",
      "mimetype": "text/x-python",
      "name": "python",
      "nbconvert_exporter": "python",
      "pygments_lexer": "ipython3",
      "version": "3.12.3"
    },
    "orig_nbformat": 4,
    "vscode": {
      "interpreter": {
        "hash": "2ea4058ebff17680e9aef3310abdc85a026daf30b518fcd609e9534b2c19ba1f"
      }
    }
  },
  "nbformat": 4,
  "nbformat_minor": 0
}
